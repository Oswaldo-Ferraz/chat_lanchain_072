{
 "cells": [
  {
   "cell_type": "markdown",
   "id": "4940c782",
   "metadata": {},
   "source": [
    "# 🤖 Template Base para Agents LangChain\n",
    "\n",
    "**Objetivo:** Este notebook serve como um template completo e reutilizável para criar, testar e executar Agents com LangChain. Ele inclui as seções essenciais, desde a configuração até a execução, com exemplos práticos.\n",
    "\n",
    "**Estrutura:**\n",
    "1.  **Setup e Imports**: Bibliotecas essenciais.\n",
    "2.  **Credenciais e Configurações**: API keys e configurações globais.\n",
    "3.  **Modelos LLM**: Modelos de AI para diferentes tarefas.\n",
    "4.  **Tools (Ferramentas)**: Um conjunto de ferramentas úteis e prontas para uso.\n",
    "5.  **Prompts e Templates**: Estruturas de prompts para o agent.\n",
    "6.  **Sistema RAG (Opcional)**: Lógica para busca em documentos.\n",
    "7.  **Criação do Agent**: Montagem do agent com os componentes.\n",
    "8.  **Execução e Processamento**: Função para invocar o agent.\n",
    "9.  **Função Principal (Main)**: Orquestração e testes."
   ]
  },
  {
   "cell_type": "markdown",
   "id": "92d1f18c",
   "metadata": {},
   "source": [
    "## 1. Setup e Imports\n",
    "\n",
    "Nesta seção, importamos todas as bibliotecas necessárias para o funcionamento do nosso sistema. É uma boa prática manter todos os imports no início."
   ]
  },
  {
   "cell_type": "code",
   "execution_count": null,
   "id": "15284194",
   "metadata": {},
   "outputs": [],
   "source": [
    "# === IMPORTS BÁSICOS ===\n",
    "import os\n",
    "import asyncio\n",
    "import time\n",
    "from datetime import datetime\n",
    "import json\n",
    "import yaml\n",
    "\n",
    "# === IMPORTS LANGCHAIN CORE ===\n",
    "from langchain_openai import ChatOpenAI, OpenAIEmbeddings\n",
    "from langchain.prompts import PromptTemplate, ChatPromptTemplate\n",
    "from langchain.schema.runnable import RunnablePassthrough, RunnableLambda\n",
    "from langchain.globals import set_llm_cache\n",
    "from langchain_community.cache import InMemoryCache\n",
    "\n",
    "# === IMPORTS PARA AGENTS ===\n",
    "from langchain.agents import create_openai_functions_agent, AgentExecutor\n",
    "from langchain.tools import tool\n",
    "\n",
    "# === IMPORTS PARA RAG ===\n",
    "from langchain_community.document_loaders import TextLoader\n",
    "from langchain.text_splitter import CharacterTextSplitter\n",
    "from langchain_community.vectorstores import Chroma\n",
    "\n",
    "print(\"✅ Bibliotecas importadas com sucesso!\")"
   ]
  },
  {
   "cell_type": "markdown",
   "id": "b0868e26",
   "metadata": {},
   "source": [
    "## 2. Credenciais e Configurações\n",
    "\n",
    "Aqui, configuramos as chaves de API e outras configurações globais. O método ideal é usar um arquivo `config.yaml` para manter as chaves seguras e fora do código."
   ]
  },
  {
   "cell_type": "code",
   "execution_count": null,
   "id": "d34af8d1",
   "metadata": {},
   "outputs": [],
   "source": [
    "def setup_credenciais_e_config():\n",
    "    \"\"\"Carrega credenciais e define configurações globais.\"\"\"\n",
    "    try:\n",
    "        # Carregar do config.yaml (método recomendado)\n",
    "        with open(\"../config/config.yaml\", \"r\") as config_file:\n",
    "            config = yaml.safe_load(config_file)\n",
    "        os.environ[\"OPENAI_API_KEY\"] = config[\"OPENAI_API_KEY\"]\n",
    "        print(\"🔑 Credenciais carregadas do config.yaml\")\n",
    "        \n",
    "    except FileNotFoundError:\n",
    "        print(\"⚠️  Arquivo config.yaml não encontrado. Usando credenciais de ambiente (se existirem).\")\n",
    "        # Se o arquivo não existir, ele tentará usar variáveis de ambiente já configuradas\n",
    "        pass\n",
    "\n",
    "    # Configurar cache para otimização de custos e velocidade\n",
    "    set_llm_cache(InMemoryCache())\n",
    "    print(\"⚡ Cache em memória ativado.\")\n",
    "\n",
    "# Executar a configuração\n",
    "setup_credenciais_e_config()"
   ]
  },
  {
   "cell_type": "markdown",
   "id": "cf6bbb28",
   "metadata": {},
   "source": [
    "## 3. Modelos LLM\n",
    "\n",
    "Definimos diferentes modelos de LLM para tarefas específicas. Isso permite otimizar o custo e a performance, usando modelos mais baratos para tarefas simples e modelos mais poderosos para análises complexas."
   ]
  },
  {
   "cell_type": "code",
   "execution_count": null,
   "id": "360f61c2",
   "metadata": {},
   "outputs": [],
   "source": [
    "def setup_modelos():\n",
    "    \"\"\"Configura e retorna um dicionário de modelos LLM.\"\"\"\n",
    "    modelos = {\n",
    "        \"rapido\": ChatOpenAI(model='gpt-3.5-turbo', temperature=0.1, max_tokens=500),\n",
    "        \"premium\": ChatOpenAI(model='gpt-4o', temperature=0.3, max_tokens=1500),\n",
    "        \"tecnico\": ChatOpenAI(model='gpt-4', temperature=0, max_tokens=1000)\n",
    "    }\n",
    "    print(f\"🤖 Modelos configurados: {list(modelos.keys())}\")\n",
    "    return modelos\n",
    "\n",
    "# Inicializar modelos\n",
    "modelos_llm = setup_modelos()"
   ]
  },
  {
   "cell_type": "markdown",
   "id": "f8f75c78",
   "metadata": {},
   "source": [
    "## 4. Tools (Ferramentas)\n",
    "\n",
    "Esta é a seção mais importante para a funcionalidade do Agent. Aqui, definimos as ferramentas que o Agent pode usar para interagir com o mundo exterior, buscar informações ou executar ações."
   ]
  },
  {
   "cell_type": "code",
   "execution_count": null,
   "id": "da8c650f",
   "metadata": {},
   "outputs": [],
   "source": [
    "# === DEFINIÇÃO DE TOOLS ===\n",
    "\n",
    "@tool\n",
    "def buscar_informacao_web(termo: str) -> str:\n",
    "    \"\"\"Busca informações gerais na web sobre um termo específico. Use para perguntas abertas.\"\"\"\n",
    "    # Simulação de uma busca na web (pode ser integrado com DuckDuckGo, Google Search API, etc.)\n",
    "    print(f\"🔎 Buscando na web por: {termo}\")\n",
    "    return f\"Dados simulados da web sobre '{termo}'. A web é vasta e cheia de informações.\" \n",
    "\n",
    "@tool\n",
    "def calcular_expressao(expressao: str) -> str:\n",
    "    \"\"\"Calcula expressões matemáticas. Use para qualquer cálculo numérico.\"\"\"\n",
    "    try:\n",
    "        # CUIDADO: eval() é inseguro em produção. Use uma biblioteca como 'numexpr' para segurança.\n",
    "        resultado = eval(expressao, {\"__builtins__\": {}}, {})\n",
    "        print(f\"🧮 Calculando: {expressao} = {resultado}\")\n",
    "        return f\"O resultado de '{expressao}' é {resultado}.\"\n",
    "    except Exception as e:\n",
    "        return f\"Erro ao calcular '{expressao}': {e}\"\n",
    "\n",
    "@tool\n",
    "def obter_data_e_hora_atual() -> str:\n",
    "    \"\"\"Retorna a data e a hora atuais. Use quando a pergunta envolver tempo.\"\"\"\n",
    "    now = datetime.now()\n",
    "    data_hora = now.strftime(\"%d/%m/%Y, %H:%M:%S\")\n",
    "    print(f\"🕒 Data e hora atual: {data_hora}\")\n",
    "    return f\"A data e hora atuais são: {data_hora}.\"\n",
    "\n",
    "@tool\n",
    "def salvar_nota(conteudo: str) -> str:\n",
    "    \"\"\"Salva uma nota ou lembrete em um arquivo de texto. Use para persistir informações.\"\"\"\n",
    "    try:\n",
    "        timestamp = datetime.now().strftime(\"%Y%m%d_%H%M%S\")\n",
    "        nome_arquivo = f\"nota_{timestamp}.txt\"\n",
    "        with open(nome_arquivo, \"w\", encoding=\"utf-8\") as f:\n",
    "            f.write(conteudo)\n",
    "        print(f\"💾 Nota salva em: {nome_arquivo}\")\n",
    "        return f\"Nota salva com sucesso no arquivo '{nome_arquivo}'.\"\n",
    "    except Exception as e:\n",
    "        return f\"Erro ao salvar nota: {e}\"\n",
    "\n",
    "# === COLEÇÃO DE TOOLS ===\n",
    "def criar_tools():\n",
    "    \"\"\"Retorna a lista de todas as tools disponíveis para o agent.\"\"\"\n",
    "    return [buscar_informacao_web, calcular_expressao, obter_data_e_hora_atual, salvar_nota]\n",
    "\n",
    "lista_de_tools = criar_tools()\n",
    "print(f\"🛠️ {len(lista_de_tools)} ferramentas prontas para uso.\")"
   ]
  },
  {
   "cell_type": "markdown",
   "id": "6306a41e",
   "metadata": {},
   "source": [
    "## 5. Prompts e Templates\n",
    "\n",
    "Definimos os templates de prompt que guiarão o comportamento do nosso Agent. O prompt do sistema é crucial para definir a \"personalidade\" e as instruções do Agent."
   ]
  },
  {
   "cell_type": "code",
   "execution_count": null,
   "id": "49582c17",
   "metadata": {},
   "outputs": [],
   "source": [
    "def criar_prompts():\n",
    "    \"\"\"Cria e retorna os templates de prompt para o agent.\"\"\"\n",
    "    prompts = {\n",
    "        \"agent_system\": ChatPromptTemplate.from_messages([\n",
    "            (\"system\", \"\"\"\n",
    "            Você é um assistente de IA avançado e proativo.\n",
    "            Seu objetivo é ajudar o usuário da forma mais completa possível.\n",
    "            Você tem acesso a um conjunto de ferramentas para executar ações.\n",
    "            \n",
    "            Instruções:\n",
    "            1. Analise a pergunta do usuário cuidadosamente.\n",
    "            2. Se a pergunta pode ser respondida diretamente, responda.\n",
    "            3. Se precisar de informações externas ou ações, escolha a ferramenta mais apropriada.\n",
    "            4. Pense passo a passo sobre como usar as ferramentas para chegar à resposta final.\n",
    "            5. Se uma ferramenta falhar, tente outra ou informe o usuário sobre a limitação.\n",
    "            \"\"\"),\n",
    "            (\"human\", \"{input}\"),\n",
    "            (\"placeholder\", \"{agent_scratchpad}\") # Onde o agent armazena seus pensamentos\n",
    "        ])\n",
    "    }\n",
    "    print(\"📜 Prompts do agent criados.\")\n",
    "    return prompts\n",
    "\n",
    "prompts_agent = criar_prompts()"
   ]
  },
  {
   "cell_type": "markdown",
   "id": "6ab6298b",
   "metadata": {},
   "source": [
    "## 6. Sistema RAG (Opcional)\n",
    "\n",
    "Esta seção implementa um sistema de Retrieval-Augmented Generation (RAG). Ele permite que o Agent consulte uma base de conhecimento local (um arquivo de texto) para responder perguntas específicas, em vez de usar apenas seu conhecimento geral."
   ]
  },
  {
   "cell_type": "code",
   "execution_count": null,
   "id": "ea7e06f1",
   "metadata": {},
   "outputs": [],
   "source": [
    "def setup_rag(caminho_arquivo: str):\n",
    "    \"\"\"Configura um sistema RAG a partir de um arquivo de texto.\"\"\"\n",
    "    try:\n",
    "        # Carregar documento\n",
    "        loader = TextLoader(caminho_arquivo, encoding=\"utf-8\")\n",
    "        documents = loader.load()\n",
    "        \n",
    "        # Dividir em chunks\n",
    "        text_splitter = CharacterTextSplitter(chunk_size=1000, chunk_overlap=200)\n",
    "        docs = text_splitter.split_documents(documents)\n",
    "        \n",
    "        # Criar embeddings e vector store\n",
    "        embeddings = OpenAIEmbeddings()\n",
    "        vectorstore = Chroma.from_documents(docs, embeddings)\n",
    "        \n",
    "        print(f\"📚 Sistema RAG configurado com {len(docs)} chunks.\")\n",
    "        return vectorstore\n",
    "    except Exception as e:\n",
    "        print(f\"⚠️  Erro ao configurar RAG: {e}. O RAG será desativado.\")\n",
    "        return None\n",
    "\n",
    "# Exemplo de configuração do RAG (descomente para usar)\n",
    "# print(\"--- Configurando RAG ---\")\n",
    "# vectorstore_rag = setup_rag(\"../data/base_conhecimento_britadeira.txt\")"
   ]
  },
  {
   "cell_type": "markdown",
   "id": "250df8c7",
   "metadata": {},
   "source": [
    "## 7. Criação do Agent\n",
    "\n",
    "Aqui, juntamos todos os componentes: o modelo LLM, as ferramentas e o prompt para criar o Agent Executor, que é o cérebro que orquestra tudo."
   ]
  },
  {
   "cell_type": "code",
   "execution_count": null,
   "id": "38cb3c6e",
   "metadata": {},
   "outputs": [],
   "source": [
    "def criar_agent(modelo_llm, tools, prompt_system):\n",
    "    \"\"\"Cria e compila o Agent Executor.\"\"\"\n",
    "    agent = create_openai_functions_agent(\n",
    "        llm=modelo_llm,\n",
    "        tools=tools,\n",
    "        prompt=prompt_system\n",
    "    )\n",
    "    \n",
    "    agent_executor = AgentExecutor(\n",
    "        agent=agent,\n",
    "        tools=tools,\n",
    "        verbose=True,  # Mostra os \"pensamentos\" do agent\n",
    "        return_intermediate_steps=False # Mude para True para debug detalhado\n",
    "    )\n",
    "    print(\"✅ Agent Executor criado com sucesso!\")\n",
    "    return agent_executor\n",
    "\n",
    "# Criar o agent com os componentes definidos\n",
    "agent_executor = criar_agent(modelos_llm[\"premium\"], lista_de_tools, prompts_agent[\"agent_system\"])"
   ]
  },
  {
   "cell_type": "markdown",
   "id": "77d7f6f0",
   "metadata": {},
   "source": [
    "## 8. Execução e Processamento\n",
    "\n",
    "Esta função encapsula a lógica de como uma pergunta do usuário é processada. Ela pode incluir a busca RAG antes de passar a pergunta para o Agent."
   ]
  },
  {
   "cell_type": "code",
   "execution_count": null,
   "id": "84fd954a",
   "metadata": {},
   "outputs": [],
   "source": [
    "async def processar_pergunta(pergunta: str, executor, vectorstore=None):\n",
    "    \"\"\"Processa uma pergunta, opcionalmente usando RAG, e invoca o agent.\"\"\"\n",
    "    print(f\"\\n--- 🚀 Processando Pergunta ---\")\n",
    "    print(f\"🗣️ Usuário: {pergunta}\")\n",
    "    \n",
    "    input_para_agent = {\"input\": pergunta}\n",
    "    \n",
    "    # Se o RAG estiver configurado, busca contexto e o adiciona ao input\n",
    "    if vectorstore:\n",
    "        docs_relevantes = vectorstore.similarity_search(pergunta, k=2)\n",
    "        contexto_rag = \"\\n\\n\".join([doc.page_content for doc in docs_relevantes])\n",
    "        input_para_agent[\"input\"] += f\"\\n\\n--- CONTEXTO ADICIONAL ---\\n{contexto_rag}\"\n",
    "        print(\"📚 Contexto RAG adicionado.\")\n",
    "        \n",
    "    # Invocar o agent\n",
    "    resultado = await executor.ainvoke(input_para_agent)\n",
    "    \n",
    "    return resultado[\"output\"]\n",
    "\n",
    "print(\"⚙️ Função de processamento pronta.\")"
   ]
  },
  {
   "cell_type": "markdown",
   "id": "4ef06e3b",
   "metadata": {},
   "source": [
    "## 9. Função Principal (Main)\n",
    "\n",
    "Este é o ponto de entrada para testar o sistema. Defina sua pergunta aqui e execute a célula para ver o Agent em ação."
   ]
  },
  {
   "cell_type": "code",
   "execution_count": null,
   "id": "7a4b875f",
   "metadata": {},
   "outputs": [],
   "source": [
    "async def main():\n",
    "    \"\"\"Função principal para orquestrar e testar o agent.\"\"\"\n",
    "    \n",
    "    # === PERGUNTA DE TESTE ===\n",
    "    # Altere a pergunta abaixo para testar diferentes funcionalidades\n",
    "    pergunta_teste = \"Qual a data e hora de hoje? Depois, calcule (150 * 3) / 5 e salve o resultado em uma nota.\"\n",
    "    \n",
    "    # Para testar o RAG, primeiro configure o vectorstore na célula 6\n",
    "    # e depois use uma pergunta relacionada ao documento.\n",
    "    # pergunta_teste = \"Como consertar uma britadeira que não liga?\"\n",
    "    \n",
    "    # Processar a pergunta\n",
    "    resposta_final = await processar_pergunta(\n",
    "        pergunta=pergunta_teste, \n",
    "        executor=agent_executor, \n",
    "        vectorstore=None # Mude para vectorstore_rag para usar RAG\n",
    "    )\n",
    "    \n",
    "    print(\"\\n--- ✅ Resposta Final ---\")\n",
    "    print(resposta_final)\n",
    "\n",
    "# === EXECUTAR O NOTEBOOK ===\n",
    "# Usamos 'await' aqui porque o Jupyter/IPython já tem um loop de eventos rodando.\n",
    "await main()"
   ]
  }
 ],
 "metadata": {
  "language_info": {
   "name": "python"
  }
 },
 "nbformat": 4,
 "nbformat_minor": 5
}
